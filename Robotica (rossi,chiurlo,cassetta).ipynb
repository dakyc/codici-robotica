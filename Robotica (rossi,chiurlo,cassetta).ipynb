{
 "cells": [
  {
   "cell_type": "markdown",
   "id": "bb87eb88",
   "metadata": {},
   "source": [
    "# Il Primo Programma #"
   ]
  },
  {
   "cell_type": "markdown",
   "id": "207d45e5",
   "metadata": {},
   "source": [
    "## Variabili ed Input Utente ##"
   ]
  },
  {
   "cell_type": "code",
   "execution_count": 4,
   "id": "93d303f6",
   "metadata": {},
   "outputs": [
    {
     "name": "stdout",
     "output_type": "stream",
     "text": [
      "Inserisci il tuo nome: Edoardo\n",
      "Ciao Edoardo !\n"
     ]
    }
   ],
   "source": [
    "nome = input(\"Inserisci il tuo nome: \")\n",
    "print(\"Ciao\", nome, \"!\")"
   ]
  },
  {
   "cell_type": "code",
   "execution_count": 5,
   "id": "e801a611",
   "metadata": {},
   "outputs": [
    {
     "name": "stdout",
     "output_type": "stream",
     "text": [
      "Edoardo\n"
     ]
    }
   ],
   "source": [
    "nome = \"rossi, cassetta, chiurlo\"\n",
    "print(nome)"
   ]
  },
  {
   "cell_type": "code",
   "execution_count": 7,
   "id": "6c3c87e4",
   "metadata": {},
   "outputs": [
    {
     "name": "stdout",
     "output_type": "stream",
     "text": [
      "Inserisci nome della viaVia Accademia\n",
      "Hai inserito Via Accademia\n"
     ]
    }
   ],
   "source": [
    "Via = input(\"Inserisci nome della via\")\n",
    "print(\"Hai inserito\", Via)"
   ]
  },
  {
   "cell_type": "markdown",
   "id": "2a1b20a3",
   "metadata": {},
   "source": [
    "Ripetere il codice più volte"
   ]
  },
  {
   "cell_type": "code",
   "execution_count": 12,
   "id": "d0f91cd4",
   "metadata": {},
   "outputs": [
    {
     "name": "stdout",
     "output_type": "stream",
     "text": [
      "Inserisci il tuo nome: Ciao\n",
      "Ciao Ciao !\n",
      "Ciao Ciao !\n",
      "Ciao Ciao !\n"
     ]
    }
   ],
   "source": [
    "nome = input(\"Inserisci il tuo nome: \")\n",
    "for contatore in range(3):\n",
    "    print(\"Ciao\", nome, \"!\") #Ripeterà solo quello dentro l'indentazione"
   ]
  },
  {
   "cell_type": "markdown",
   "id": "b1c472e7",
   "metadata": {},
   "source": [
    "# Calcolatrice Python #"
   ]
  },
  {
   "cell_type": "markdown",
   "id": "8503e05e",
   "metadata": {},
   "source": [
    "## Addizione ##"
   ]
  },
  {
   "cell_type": "code",
   "execution_count": 16,
   "id": "d2e9c114",
   "metadata": {},
   "outputs": [
    {
     "name": "stdout",
     "output_type": "stream",
     "text": [
      "Inserisci il primo numero: 1\n",
      "Inserisci il secondo numero: 1\n",
      "La somma è: 2\n"
     ]
    }
   ],
   "source": [
    "numero1 = int(input(\"Inserisci il primo numero: \"))\n",
    "numero2 = int(input(\"Inserisci il secondo numero: \"))\n",
    "somma = numero1 + numero2\n",
    "print(\"La somma è:\", somma)"
   ]
  },
  {
   "cell_type": "markdown",
   "id": "1840e287",
   "metadata": {},
   "source": [
    "## Sottrazione ##"
   ]
  },
  {
   "cell_type": "code",
   "execution_count": 17,
   "id": "0e4a7de6",
   "metadata": {},
   "outputs": [
    {
     "name": "stdout",
     "output_type": "stream",
     "text": [
      "La sottrazioneè: 0\n"
     ]
    }
   ],
   "source": [
    "sottrazione = numero1 - numero2\n",
    "print(\"La sottrazioneè:\", sottrazione)"
   ]
  },
  {
   "cell_type": "markdown",
   "id": "5fd2f0dd",
   "metadata": {},
   "source": [
    "## Moltiplicazione ##"
   ]
  },
  {
   "cell_type": "code",
   "execution_count": 18,
   "id": "318409b3",
   "metadata": {},
   "outputs": [
    {
     "name": "stdout",
     "output_type": "stream",
     "text": [
      "Inserisci il pirmo numero: 2\n",
      "Inserisci il secondo numero: 2\n",
      "La moltiplicazione è: 4\n"
     ]
    }
   ],
   "source": [
    "numero1 = int(input(\"Inserisci il pirmo numero: \"))\n",
    "numero2 = int(input(\"Inserisci il secondo numero: \"))\n",
    "moltiplicazione = numero1 * numero2\n",
    "print(\"La moltiplicazione è:\", moltiplicazione)"
   ]
  },
  {
   "cell_type": "markdown",
   "id": "8432cc10",
   "metadata": {},
   "source": [
    "## Divisione ##"
   ]
  },
  {
   "cell_type": "code",
   "execution_count": 23,
   "id": "1e43c8c6",
   "metadata": {},
   "outputs": [
    {
     "name": "stdout",
     "output_type": "stream",
     "text": [
      "Inserisci il pirmo numero: 2\n",
      "Inserisci il secondo numero: 2\n",
      "La divisione è: 1.0\n"
     ]
    }
   ],
   "source": [
    "numero1 = int(input(\"Inserisci il pirmo numero: \"))\n",
    "numero2 = int(input(\"Inserisci il secondo numero: \"))\n",
    "divisione = numero1 / numero2\n",
    "print(\"La divisione è:\", divisione)"
   ]
  },
  {
   "cell_type": "markdown",
   "id": "a1fbf885",
   "metadata": {},
   "source": [
    "# Loop e Ripetizione #"
   ]
  },
  {
   "cell_type": "code",
   "execution_count": 25,
   "id": "fe471b3a",
   "metadata": {},
   "outputs": [
    {
     "name": "stdout",
     "output_type": "stream",
     "text": [
      "0\n",
      "1\n",
      "2\n",
      "3\n",
      "4\n",
      "5\n",
      "6\n",
      "7\n",
      "8\n",
      "9\n",
      "10\n"
     ]
    }
   ],
   "source": [
    "for numero in range(11): #il range parte da 0 ed arriva a 11\n",
    "    print(numero)"
   ]
  },
  {
   "cell_type": "code",
   "execution_count": 26,
   "id": "1051fd00",
   "metadata": {},
   "outputs": [
    {
     "name": "stdout",
     "output_type": "stream",
     "text": [
      "1\n",
      "2\n",
      "3\n",
      "4\n",
      "5\n",
      "6\n",
      "7\n",
      "8\n",
      "9\n",
      "10\n"
     ]
    }
   ],
   "source": [
    "for numero in range(1,11): #il range parte da 1 ed arriva a 11\n",
    "    print(numero)"
   ]
  },
  {
   "cell_type": "markdown",
   "id": "b25ab7d0",
   "metadata": {},
   "source": [
    "# Condizioni e Decisioni #"
   ]
  },
  {
   "cell_type": "code",
   "execution_count": 8,
   "id": "f7766a7f",
   "metadata": {
    "scrolled": true
   },
   "outputs": [
    {
     "name": "stdout",
     "output_type": "stream",
     "text": [
      "Inserisci l'operazione (+, -, *, /): *\n",
      "Inserisci il primo numero: 5\n",
      "Inserisci il secondo numero: 4\n",
      "Il risultato è: 20.0\n"
     ]
    }
   ],
   "source": [
    "# Calcolatrice Python con decisioni\n",
    "\n",
    "operazione = input(\"Inserisci l'operazione (+, -, *, /): \")\n",
    "\n",
    "numero1 = float(input(\"Inserisci il primo numero: \"))\n",
    "numero2 = float(input(\"Inserisci il secondo numero: \"))\n",
    "\n",
    "if operazione == \"+\":\n",
    "    risultato = numero1 + numero2\n",
    "elif operazione == \"-\":\n",
    "    risultato = numero1 - numero2\n",
    "elif operazione == \"*\":\n",
    "    risultato = numero1 * numero2\n",
    "elif operazione == \"/\":\n",
    "    risultato = numero1 / numero2\n",
    "else:\n",
    "    risultato = \"Operazione non valida\"\n",
    "    \n",
    "print(\"Il risultato è:\", risultato)"
   ]
  },
  {
   "cell_type": "markdown",
   "id": "6cd42fa0",
   "metadata": {},
   "source": [
    "# Contare fino a N #"
   ]
  },
  {
   "cell_type": "code",
   "execution_count": 14,
   "id": "57615d6d",
   "metadata": {},
   "outputs": [
    {
     "name": "stdout",
     "output_type": "stream",
     "text": [
      "Inserisci un numero intero positivo:6\n",
      "1\n",
      "2\n",
      "3\n",
      "4\n",
      "5\n",
      "6\n"
     ]
    }
   ],
   "source": [
    "n = int(input(\"Inserisci un numero intero positivo:\"))\n",
    "\n",
    "for numero in range(1,n+1):\n",
    "    print(numero)"
   ]
  },
  {
   "cell_type": "markdown",
   "id": "5d6df896",
   "metadata": {},
   "source": [
    "# Calcolare la Somma #"
   ]
  },
  {
   "cell_type": "code",
   "execution_count": 17,
   "id": "83d3bbf9",
   "metadata": {},
   "outputs": [
    {
     "name": "stdout",
     "output_type": "stream",
     "text": [
      "Inserisci un numero intero positivo: 3\n",
      "La somma dei primi 3 numeri interi è: 6\n"
     ]
    }
   ],
   "source": [
    "n = int(input(\"Inserisci un numero intero positivo: \"))\n",
    "somma = 0\n",
    "\n",
    "for numero in range(1, n+1):\n",
    "    #somma = somma + numero\n",
    "    somma += numero\n",
    "print(\"La somma dei primi\", n, \"numeri interi è:\", somma)"
   ]
  },
  {
   "cell_type": "markdown",
   "id": "7b282266",
   "metadata": {},
   "source": [
    "# Calcolare il Quadrato dei Primi Numeri #"
   ]
  },
  {
   "cell_type": "code",
   "execution_count": 24,
   "id": "1dd1b108",
   "metadata": {},
   "outputs": [
    {
     "name": "stdout",
     "output_type": "stream",
     "text": [
      "Inserisci un numero intero positivo: 5\n",
      "Quadrati dei primi 5 numeri:\n",
      "Il quadrato di 1 è 1\n",
      "Il quadrato di 2 è 4\n",
      "Il quadrato di 3 è 9\n",
      "Il quadrato di 4 è 16\n",
      "Il quadrato di 5 è 25\n"
     ]
    }
   ],
   "source": [
    "n = int(input(\"Inserisci un numero intero positivo: \"))\n",
    "\n",
    "print(\"Quadrati dei primi\", n, \"numeri:\")\n",
    "\n",
    "for numero in range (1, n+1):\n",
    "    quadrato = numero ** 2\n",
    "    print(\"Il quadrato di\", numero, \"è\", quadrato)"
   ]
  },
  {
   "cell_type": "markdown",
   "id": "0028a668",
   "metadata": {},
   "source": [
    "# Verificare la Parità #"
   ]
  },
  {
   "cell_type": "code",
   "execution_count": 29,
   "id": "172ac0ba",
   "metadata": {},
   "outputs": [
    {
     "name": "stdout",
     "output_type": "stream",
     "text": [
      "Inserisci un numero: 23\n",
      "23 è un numero dispari.\n"
     ]
    }
   ],
   "source": [
    "numero = int(input(\"Inserisci un numero: \"))\n",
    "\n",
    "#Se input è DIVISIBILE(%) per 2 e ha resto 0 (== 0)\n",
    "if numero % 2 == 0:\n",
    "    print(numero, \"é un numero pari.\")\n",
    "else:\n",
    "    print(numero, \"è un numero dispari.\")"
   ]
  },
  {
   "cell_type": "markdown",
   "id": "d23b0ee9",
   "metadata": {},
   "source": [
    "# Calcolare il Fattoriale #"
   ]
  },
  {
   "cell_type": "code",
   "execution_count": 55,
   "id": "6660362a",
   "metadata": {},
   "outputs": [
    {
     "name": "stdout",
     "output_type": "stream",
     "text": [
      "Inserire un numero intero positivo: 5\n",
      "Il fattoriale di 5 è: 120\n"
     ]
    }
   ],
   "source": [
    "n = int(input(\"Inserire un numero intero positivo: \"))\n",
    "fattoriale = 1\n",
    "\n",
    "for numero in range(1, n+1):\n",
    "    #fattoriale = fattoriale * numero\n",
    "    fattoriale *= numero\n",
    "print(\"Il fattoriale di\", n, \"è:\", fattoriale)"
   ]
  },
  {
   "cell_type": "markdown",
   "id": "f83c2229",
   "metadata": {},
   "source": [
    "# Calcolare la media di una Lista di Numeri #"
   ]
  },
  {
   "cell_type": "code",
   "execution_count": 61,
   "id": "cbf6b65d",
   "metadata": {},
   "outputs": [
    {
     "name": "stdout",
     "output_type": "stream",
     "text": [
      "Quanti numeri vuoi inserire= 4\n",
      "Inserisci un numero: 3\n",
      "Inserisci un numero: 3\n",
      "Inserisci un numero: 3\n",
      "Inserisci un numero: 3\n",
      "La media dei numeri inseriti è: 3.0 [3.0, 3.0, 3.0, 3.0]\n"
     ]
    }
   ],
   "source": [
    "numeri = [] #Lista vuota di nome numeri\n",
    "\n",
    "n = int(input(\"Quanti numeri vuoi inserire= \")) #Chiede quanti numeri voglio inserire dentro la lista vuota\n",
    "\n",
    "#chiede un numero per quanto hai detto alla prima domanda\n",
    "for i in range(n):\n",
    "    numero = float(input(\"Inserisci un numero: \"))\n",
    "    numeri.append(numero) #mette il numero inserito dopo quello precedente\n",
    "    \n",
    "media = sum(numeri) / len(numeri) #Somma numeri dentro la lista e divide per lunghezza di quanti elementi ci sono\n",
    "\n",
    "print(\"La media dei numeri inseriti è:\", media, numeri)"
   ]
  },
  {
   "cell_type": "markdown",
   "id": "a71d067e",
   "metadata": {},
   "source": [
    "# Gioco dell'Indovinello #"
   ]
  },
  {
   "cell_type": "code",
   "execution_count": 10,
   "id": "025da9b8",
   "metadata": {},
   "outputs": [
    {
     "name": "stdout",
     "output_type": "stream",
     "text": [
      "Indovina il numero (1-100): 2\n",
      "Il numero è più grande\n",
      "Indovina il numero (1-100): 17\n",
      "Il numero è più grande\n",
      "Indovina il numero (1-100): 56\n",
      "Il numero è più piccolo\n",
      "Indovina il numero (1-100): 3\n",
      "Il numero è più grande\n",
      "Indovina il numero (1-100): 37\n",
      "Il numero è più piccolo\n",
      "Indovina il numero (1-100): 33\n",
      "Il numero è più grande\n",
      "Indovina il numero (1-100): 35\n",
      "Il numero è più piccolo\n",
      "Indovina il numero (1-100): 34\n",
      "Bravo! Hai indovinato il numero 34 in 8 tentativi\n"
     ]
    }
   ],
   "source": [
    "import random #importa la libreria del random\n",
    "\n",
    "numero_da_indovinare =random.randint(1, 100) #spara un numero da 1 a 100\n",
    "tentativi = 0\n",
    "\n",
    "#chiede un numero\n",
    "while True:\n",
    "    tentativo = int(input(\"Indovina il numero (1-100): \"))\n",
    "    tentativi += 1\n",
    "    \n",
    "    if tentativo == numero_da_indovinare:\n",
    "        print(\"Bravo! Hai indovinato il numero\", numero_da_indovinare, \"in\", tentativi, \"tentativi\")\n",
    "        break\n",
    "    elif tentativo < numero_da_indovinare:\n",
    "        print(\"Il numero è più grande\")\n",
    "    else:\n",
    "        print(\"Il numero è più piccolo\")"
   ]
  },
  {
   "cell_type": "markdown",
   "id": "04b38c61",
   "metadata": {},
   "source": [
    "# MORRA CINESE #"
   ]
  },
  {
   "cell_type": "code",
   "execution_count": 69,
   "id": "eb557959",
   "metadata": {},
   "outputs": [
    {
     "name": "stdout",
     "output_type": "stream",
     "text": [
      "Benvenuti al gioco del Morra Cinese!\n",
      "Scegli la tua mossa (Carta, forbici, sasso): carta\n",
      "Il computer ha scelto: sasso\n",
      "Hai Vinto!\n"
     ]
    }
   ],
   "source": [
    "import random\n",
    "\n",
    "mosse = [\"carta\", \"forbice\", \"sasso\"]\n",
    "\n",
    "computer_mossa = random.choice(mosse)\n",
    "\n",
    "print(\"Benvenuti al gioco del Morra Cinese!\")\n",
    "scelta_giocatore = input(\"Scegli la tua mossa (Carta, forbici, sasso): \")\n",
    "\n",
    "if scelta_giocatore not in mosse:\n",
    "    print(\"Mossa non permessa\")\n",
    "else:\n",
    "    print(\"Il computer ha scelto:\", computer_mossa)\n",
    "    if scelta_giocatore == computer_mossa:\n",
    "        print(\"Pareggio!\")\n",
    "    elif (scelta_giocatore == \"carta\" and computer_mossa == \"sasso\") or \\\n",
    "         (scelta_giocatore == \"forbici\" and computer_mossa == \"carta\") or \\\n",
    "         (scelta_giocatore == \"sasso\" and computer_mossa == \"forbici\"):\n",
    "        print(\"Hai Vinto!\")\n",
    "    else:\n",
    "        print(\"Hai Perso!\")"
   ]
  },
  {
   "cell_type": "markdown",
   "id": "0d4a9ddf",
   "metadata": {},
   "source": [
    "# Calcolo del fattoriale #"
   ]
  },
  {
   "cell_type": "code",
   "execution_count": 74,
   "id": "6a078f6d",
   "metadata": {},
   "outputs": [
    {
     "name": "stdout",
     "output_type": "stream",
     "text": [
      "Inserisci un numero intero: 2\n",
      "Il fattoriale di 2 è 2\n"
     ]
    }
   ],
   "source": [
    "n = int(input(\"Inserisci un numero intero: \"))\n",
    "\n",
    "fattoriale = 1\n",
    "\n",
    "if n<0:\n",
    "    print(\"Numero Negativo\")\n",
    "elif n ==0:\n",
    "    print(\"Il numero di zero è un 1 per definizione\")\n",
    "else:\n",
    "    for numero in range(1, n+1):\n",
    "        fattoriale*=numero\n",
    "print(f\"Il fattoriale di {n} è {fattoriale}\")"
   ]
  },
  {
   "cell_type": "markdown",
   "id": "9eea10ad",
   "metadata": {},
   "source": [
    "# somma numeri n #"
   ]
  },
  {
   "cell_type": "code",
   "execution_count": 13,
   "id": "10e99723",
   "metadata": {},
   "outputs": [
    {
     "name": "stdout",
     "output_type": "stream",
     "text": [
      "Inserisci un numero intero positivo N: 10\n",
      "la somma dei primi 10 numeri pari è 110\n"
     ]
    }
   ],
   "source": [
    "# Chiedere all'utente d'inserire un numero imtero positivo N\n",
    "\n",
    "N = int(input(\"Inserisci un numero intero positivo N: \"))\n",
    "\n",
    "# Inizializzare la somma a zero\n",
    "somma = 0\n",
    "\n",
    "# Calcolare la somma dei primi N numeri pari\n",
    "for numero in range(2, 2 * N + 1, 2):\n",
    "    somma += numero\n",
    "    \n",
    "# Stampare la somma\n",
    "print(f\"la somma dei primi {N} numeri pari è {somma}\")"
   ]
  },
  {
   "cell_type": "markdown",
   "id": "19f8b2fb",
   "metadata": {},
   "source": [
    "# CONTA VOCALI IN UNA FRASE #"
   ]
  },
  {
   "cell_type": "code",
   "execution_count": 14,
   "id": "b95e04b1",
   "metadata": {},
   "outputs": [
    {
     "name": "stdout",
     "output_type": "stream",
     "text": [
      "Inserisci una frase o una parola: CIAO\n",
      "nella frase ci sono 3 vocali\n"
     ]
    }
   ],
   "source": [
    "# Chiedere all'utente d'inserire una frase o una parola\n",
    "\n",
    "frase  = input(\"Inserisci una frase o una parola: \").lower() #Converti tutto in minuscolo per semplificare il contaggio\n",
    "\n",
    "# Inizializzare il contatore delle vocali\n",
    "conteggio_vocali = 0\n",
    "\n",
    "# Definisci le vocali da cercare\n",
    "vocali = \"aeiou\"\n",
    "\n",
    "# scansione ogni carattere nella frase\n",
    "for carattere in frase:\n",
    "    # Verifica se il carattere è una vocale\n",
    "    if carattere in vocali:\n",
    "        conteggio_vocali += 1\n",
    "    \n",
    "# Stampare la somma\n",
    "print(f\"nella frase ci sono {conteggio_vocali} vocali\")"
   ]
  },
  {
   "cell_type": "code",
   "execution_count": 20,
   "id": "6b185f74",
   "metadata": {},
   "outputs": [
    {
     "name": "stdout",
     "output_type": "stream",
     "text": [
      "Inserisci un numero intero positivo N: 10\n",
      "[2, 4, 6, 8, 10, 12, 14, 16, 18, 20]\n"
     ]
    }
   ],
   "source": [
    "# Chiedere all'utente di inserire un nuerp intero positivo N\n",
    "N = int(input(\"Inserisci un numero intero positivo N: \"))\n",
    "lista = []\n",
    "\n",
    "\n",
    "# Calcolare la somma dei primi n numeri pari\n",
    "for numero in range(2, 2 * N + 1,2):\n",
    "    lista.append(numero)\n",
    "    \n",
    "print(lista)"
   ]
  },
  {
   "cell_type": "markdown",
   "id": "56eebab1",
   "metadata": {},
   "source": [
    "# IDNOVINA IL NUMERO DI DADO CASUALE (1 a 6) #"
   ]
  },
  {
   "cell_type": "code",
   "execution_count": 60,
   "id": "412b9a0e",
   "metadata": {},
   "outputs": [
    {
     "name": "stdout",
     "output_type": "stream",
     "text": [
      "Indovina il numero del dado (da 1 a 6): 6\n",
      "Complimenti il numero del dardo era 6. Hai indovinato!\n"
     ]
    }
   ],
   "source": [
    "import random\n",
    "\n",
    "# Genera un numero casuale da 1 a 6(simulando un lanco di un dado)\n",
    "numero_dado = random.randint(1, 6)\n",
    "\n",
    "# Chiedi all'utente d'indovinare il numero\n",
    "indovina = int(input(\"Indovina il numero del dado (da 1 a 6): \"))\n",
    "\n",
    "# Verifica se l'utente ha indovinato correttamente\n",
    "if indovina <1 or indovina <0:\n",
    "    print(\"numero non ammesso\")\n",
    "elif indovina == numero_dado:\n",
    "    print(f\"Complimenti il numero del dardo era {numero_dado}. Hai indovinato!\")\n",
    "else:\n",
    "    print(f\"Mi dispiae, il numero del dado era {numero_dado}. Meglio fortuna la prossima volta!\")"
   ]
  },
  {
   "cell_type": "markdown",
   "id": "90fe23cf",
   "metadata": {},
   "source": [
    "# SIMULAZIONE POPOLAZIONE #"
   ]
  },
  {
   "cell_type": "code",
   "execution_count": 66,
   "id": "7e0fb30a",
   "metadata": {},
   "outputs": [
    {
     "name": "stdout",
     "output_type": "stream",
     "text": [
      "inserisci popolazione iniziale: 10\n",
      "Inserisci il numero di anni da simulare: 10\n",
      "Inserisci tasso natalità: 10\n",
      "Inserisci tasso mortalità: 10\n",
      "Anno 10, Popolazione 10\n",
      "Anno 10, Popolazione 10\n",
      "Anno 10, Popolazione 10\n",
      "Anno 10, Popolazione 10\n",
      "Anno 10, Popolazione 10\n",
      "Anno 10, Popolazione 10\n",
      "Anno 10, Popolazione 10\n",
      "Anno 10, Popolazione 10\n",
      "Anno 10, Popolazione 10\n",
      "Anno 10, Popolazione 10\n",
      "Simulazione completata\n"
     ]
    }
   ],
   "source": [
    "# Inizializza la popolazione e gli anni\n",
    "popolazione = int(input(\"inserisci popolazione iniziale: \"))\n",
    "anni = int(input(\"Inserisci il numero di anni da simulare: \"))\n",
    "# Tasso di natalità e tasso di mortalità (% annuale)\n",
    "tasso_natalità = float(input(\"Inserisci tasso natalità: \"))\n",
    "tasso_mortalità = float(input(\"Inserisci tasso mortalità: \"))\n",
    "\n",
    "\n",
    "# Simulazione della crescita della popolazione\n",
    "for anno in range(anni):\n",
    "    nascite = (popolazione * tasso_natalità) / 100\n",
    "    morti = (popolazione * tasso_mortalità) / 100\n",
    "    popolazione += (nascite - morti)\n",
    "    \n",
    "    print(f\"Anno {anni}, Popolazione {int(popolazione)}\")\n",
    "    \n",
    "print(\"Simulazione completata\")"
   ]
  },
  {
   "cell_type": "markdown",
   "id": "7f818f1a",
   "metadata": {},
   "source": [
    "# dire giorno ed ora con datetime #"
   ]
  },
  {
   "cell_type": "code",
   "execution_count": 67,
   "id": "cb57400a",
   "metadata": {},
   "outputs": [
    {
     "name": "stdout",
     "output_type": "stream",
     "text": [
      "oggi è il giorno: 04 10 23,  ore: 09 09 04\n"
     ]
    }
   ],
   "source": [
    "import datetime\n",
    "\n",
    "today = datetime.datetime.today()\n",
    "print(f\"oggi è il giorno:{today: %d %m %y},  ore:{today: %H %M %S}\")"
   ]
  },
  {
   "cell_type": "code",
   "execution_count": 4,
   "id": "078ec7b9",
   "metadata": {},
   "outputs": [
    {
     "name": "stdout",
     "output_type": "stream",
     "text": [
      "Benvenuto nel convertitore di misura!\n",
      "Cosa desideri convertire? (metri/piedi/chilograbbi/libbre): metri\n",
      "Inserisci il valore in metri: 2\n",
      "2.0 metri corrispondono = 6.56068 piedi.\n"
     ]
    }
   ],
   "source": [
    "print(\"Benvenuto nel convertitore di misura!\")\n",
    "scelta = input(\"Cosa desideri convertire? (metri/piedi/chilograbbi/libbre): \").lower()\n",
    "\n",
    "if scelta == \"metri\":\n",
    "    valore = float(input(\"Inserisci il valore in metri: \"))\n",
    "    risultato = valore * 3.28034\n",
    "    print(f\"{valore} metri corrispondono = {risultato} piedi.\")\n",
    "    \n",
    "elif scelta == \"piedi\":\n",
    "    valore = float(input(\"Inserisci il valore in piedi: \"))\n",
    "    risultato = valore * 0.3048\n",
    "    print(f\"{valore} metri corrispondono = {risultato} metri.\")\n",
    "    \n",
    "elif scelta == \"chilogrammi\":\n",
    "    valore = float(input(\"Inserisci il valore in chilogrammi: \"))\n",
    "    risultato = valore * 2.2046\n",
    "    print(f\"{valore} metri corrispondono = {risultato} libbre.\")\n",
    "    \n",
    "elif scelta == \"libbre\":\n",
    "    valore = float(input(\"Inserisci il valore in libbre: \"))\n",
    "    risultato = valore * 3.28034\n",
    "    print(f\"{valore} metri corrispondono = {risultato} chilogrammi.\")"
   ]
  },
  {
   "cell_type": "markdown",
   "id": "bb030805",
   "metadata": {},
   "source": [
    "# FIBONACCI #"
   ]
  },
  {
   "cell_type": "code",
   "execution_count": 69,
   "id": "1ebbefcf",
   "metadata": {},
   "outputs": [
    {
     "name": "stdout",
     "output_type": "stream",
     "text": [
      "Inserisci un numeor n per calcolare l'n-esimo numero di Fibonacci: 20\n",
      "l'n-esimo numero di fibonacci è: 4181\n"
     ]
    }
   ],
   "source": [
    "# Chiedere all'utente d'inserire un numero n\n",
    "n = int(input(\"Inserisci un numeor n per calcolare l'n-esimo numero di Fibonacci: \"))\n",
    "#inizializzare le variabili per i primi due numeri di fibonacci\n",
    "a=0\n",
    "b=1\n",
    "c=1\n",
    "\n",
    "# Calcolare l'n-esimo numero di fibonacci\n",
    "if n <= 0:\n",
    "    print(\"il numero deve essere maggiore di 0\")\n",
    "elif n == 1:\n",
    "    risultato = a\n",
    "else:\n",
    "    for iterazione in range(n-3):\n",
    "        a = b\n",
    "        b = c\n",
    "        c = a + b\n",
    "    risultato = c\n",
    "# Stampare l'n-esio numero di fibonacci\n",
    "print(\"l'n-esimo numero di fibonacci è:\", risultato)"
   ]
  },
  {
   "cell_type": "markdown",
   "id": "1bfa1da1",
   "metadata": {},
   "source": [
    "# FUNZIONI CUSTOM #"
   ]
  },
  {
   "cell_type": "code",
   "execution_count": 79,
   "id": "40ad4e3c",
   "metadata": {},
   "outputs": [],
   "source": [
    "def fibonacci(n):\n",
    "    fib_series = [0, 1]\n",
    "    \n",
    "    while len(fib_series) < n:\n",
    "        fib_series.append(fib_series[-1] + fib_series[-2])\n",
    "        \n",
    "    return fib_series"
   ]
  },
  {
   "cell_type": "code",
   "execution_count": 80,
   "id": "c506c86b",
   "metadata": {},
   "outputs": [
    {
     "data": {
      "text/plain": [
       "[0, 1, 1, 2, 3, 5, 8, 13, 21]"
      ]
     },
     "execution_count": 80,
     "metadata": {},
     "output_type": "execute_result"
    }
   ],
   "source": [
    "fibonacci(9)"
   ]
  },
  {
   "cell_type": "code",
   "execution_count": 5,
   "id": "ef16a660",
   "metadata": {},
   "outputs": [
    {
     "name": "stdout",
     "output_type": "stream",
     "text": [
      "Benvenuro nella calcolatrice di aree\n",
      "Vuoi calcolare l'area di un cerchio (c), rettangolo (r), triangolo (t): c\n",
      "Inserisci il raggio del cerchio: 10\n",
      "L'area del cerchio è  314.16\n"
     ]
    }
   ],
   "source": [
    "import math\n",
    "\n",
    "def calcola_area_cerchio(raggio):\n",
    "    return math.pi * (raggio ** 2)\n",
    "\n",
    "def calcola_area_rettangolo(base, altezza):\n",
    "    return base * altezza\n",
    "\n",
    "def calcola_area_triangolo(base, altezza):\n",
    "    return (base * altezza) / 2\n",
    "\n",
    "print(\"Benvenuro nella calcolatrice di aree\")\n",
    "\n",
    "scelta = input(\"Vuoi calcolare l'area di un cerchio (c), rettangolo (r), triangolo (t): \").lower()\n",
    "\n",
    "if scelta == 'c':\n",
    "    raggio = float(input(\"Inserisci il raggio del cerchio: \"))\n",
    "    area = calcola_area_cerchio(raggio)\n",
    "    print(f\"L'area del cerchio è {area: .2f}\")\n",
    "elif scelta == 'r':\n",
    "    base = float(input(\"Inserisci la base del rettangolo: \"))\n",
    "    altezza = float(input(\"Inserisci l'altezza del rettangolo: \"))\n",
    "    area = calcola_area_rettangolo(base, altezza)\n",
    "    print(f\"L'area del rettangolo è {area:.2f}\")\n",
    "elif scelta == 't':\n",
    "    base = float(input(\"inserisci la base del triangolo: \"))\n",
    "    altezza = float(input(\"Inserisci l'altezza del triangolo: \"))\n",
    "    area = calcola_area_triangolo(base, altezza)\n",
    "    print(f\"l'area del triangolo è {area:-2f}\") #{area:-2f} significa di stampare il valore AREA ma massimo 2 numeri dopo virgola\n",
    "else:\n",
    "    print(\"Scelta non valida, riprova\")"
   ]
  },
  {
   "cell_type": "markdown",
   "id": "ecd7e4ae",
   "metadata": {},
   "source": [
    "# calcolo interessi #"
   ]
  },
  {
   "cell_type": "code",
   "execution_count": 6,
   "id": "ca95f19d",
   "metadata": {},
   "outputs": [],
   "source": [
    "def calcola_interessi(importo_iniziale, tasso_interesse, periodi_investimento):\n",
    "    importo_finale = importo_iniziale * (1 + tasso_interesse / 100) ** periodi_investimento\n",
    "    return importo_finale"
   ]
  },
  {
   "cell_type": "code",
   "execution_count": 8,
   "id": "d1bfc875",
   "metadata": {},
   "outputs": [
    {
     "name": "stdout",
     "output_type": "stream",
     "text": [
      "Benvetuo nel Calolatore d'interessi!\n",
      "Inserisci l'importo iniziale: 200000\n",
      "Inserisci il tasso d'interesse annuale (%): 32\n",
      "Inserisci il periodo d'investimento (anni): 20\n",
      "l'importo finale dopo 20 anni è di 51583240.31 euro.\n"
     ]
    }
   ],
   "source": [
    "print(\"Benvetuo nel Calolatore d'interessi!\")\n",
    "\n",
    "importo = float(input(\"Inserisci l'importo iniziale: \"))\n",
    "tasso = float(input(\"Inserisci il tasso d'interesse annuale (%): \"))\n",
    "periodo = int(input(\"Inserisci il periodo d'investimento (anni): \"))\n",
    "\n",
    "importo_finale = calcola_interessi(importo, tasso, periodo)\n",
    "\n",
    "print(f\"l'importo finale dopo {periodo} anni è di {importo_finale:.2f} euro.\")"
   ]
  },
  {
   "cell_type": "markdown",
   "id": "01adf3c2",
   "metadata": {},
   "source": [
    "# Calcolo forza gravitazionale 2 pianeti #"
   ]
  },
  {
   "cell_type": "code",
   "execution_count": 17,
   "id": "a751c044",
   "metadata": {},
   "outputs": [],
   "source": [
    "def forza_gravitazionale(m1, m2, r):\n",
    "    #costante gravitazioamel\n",
    "    G = 6.67430e-11 #N(m/gk)^2\n",
    "    \n",
    "    #Calcola dela forza gravitazionale\n",
    "    F = (G * m1 * m2) / (r ** 2)\n",
    "    \n",
    "    return F"
   ]
  },
  {
   "cell_type": "code",
   "execution_count": 19,
   "id": "e00b72c5",
   "metadata": {},
   "outputs": [
    {
     "name": "stdout",
     "output_type": "stream",
     "text": [
      "forza gravitazionale tra la terra e la luna: 1.9804922390990566e+20 Newton\n"
     ]
    }
   ],
   "source": [
    "#esempio di utilizzo\n",
    "massa_terra = 5.972e24 #kg\n",
    "massa_luna = 7.342e22 #kg\n",
    "distanza_terra_luna = 384400000 #metri\n",
    "\n",
    "forza = forza_gravitazionale(massa_terra, massa_luna, distanza_terra_luna)\n",
    "print(f\"forza gravitazionale tra la terra e la luna: {forza} Newton\")"
   ]
  },
  {
   "cell_type": "markdown",
   "id": "0bc3cf6a",
   "metadata": {},
   "source": [
    "# calcola anagrammi #"
   ]
  },
  {
   "cell_type": "code",
   "execution_count": 30,
   "id": "ef5c9060",
   "metadata": {},
   "outputs": [
    {
     "name": "stdout",
     "output_type": "stream",
     "text": [
      "Benvenuto nel risolutore di anagrammi!\n",
      "Inserisci una parola: edo\n",
      "gi anagrammi di 'edo' sono: '0'\n",
      "eod\n",
      "gi anagrammi di 'edo' sono: '1'\n",
      "deo\n",
      "gi anagrammi di 'edo' sono: '2'\n",
      "doe\n",
      "gi anagrammi di 'edo' sono: '3'\n",
      "oed\n",
      "gi anagrammi di 'edo' sono: '4'\n",
      "ode\n",
      "gi anagrammi di 'edo' sono: '5'\n"
     ]
    }
   ],
   "source": [
    "from itertools import permutations\n",
    "k=0\n",
    "\n",
    "def trova_anagrammi(parola):\n",
    "    anagrammi = [\"\".join(p) for p in permutations(parola)]\n",
    "                #unisce elementi in permutations di parola\n",
    "                #for p in permutations(parola):\n",
    "                #   anagrammi = [\"\".join(p)]\n",
    "    return anagrammi\n",
    "\n",
    "print(\"Benvenuto nel risolutore di anagrammi!\")\n",
    "\n",
    "parola_input = input(\"Inserisci una parola: \").strip().lower()\n",
    "\n",
    "if len(parola_input) < 2:\n",
    "    print(\"Inserisci una parola con almeno 2 caratteri: \")\n",
    "else:\n",
    "    anagrammi = trova_anagrammi(parola_input)\n",
    "    \n",
    "    for anagramma in anagrammi:\n",
    "        if anagramma != parola_input:\n",
    "            k+=1\n",
    "            print(anagramma)\n",
    "        print(f\"gli anagrammi di '{parola_input}' sono: '{k}'\")"
   ]
  },
  {
   "cell_type": "markdown",
   "id": "b68470f9",
   "metadata": {},
   "source": [
    "# dizionario #"
   ]
  },
  {
   "cell_type": "code",
   "execution_count": 5,
   "id": "a6d946df",
   "metadata": {},
   "outputs": [
    {
     "name": "stdout",
     "output_type": "stream",
     "text": [
      "Inserisci l'importo da convertire: 8329\n",
      "Inserisci la valuta di partenza: dollari\n",
      "Inserisci la valuta di destinazione: euro\n",
      "8329.0 dollari sono equivalenti a 7079.65 euro\n"
     ]
    }
   ],
   "source": [
    "# Definizione dei tassi di cambio\n",
    "\n",
    "tassi_di_cambio= {\n",
    "    \"dollari\": 1.0,\n",
    "    \"euro\": 0.85,\n",
    "    \"yen\": 110.41,\n",
    "    # aggiungi altre valute e tassi di cambio se necessario\n",
    "}\n",
    "\n",
    "# Chiedi all'utente d'inserire l'importo, la valuta di partenza e la valuta di destinazione\n",
    "importo = float(input(\"Inserisci l'importo da convertire: \"))\n",
    "valuta_di_partenza = input(\"Inserisci la valuta di partenza: \").lower()\n",
    "valuta_destinazione = input(\"Inserisci la valuta di destinazione: \").lower()\n",
    "\n",
    "#Verifica se le valute sono nel dizionari dei tassi di cambio\n",
    "if valuta_di_partenza in tassi_di_cambio and valuta_destinazione in tassi_di_cambio:\n",
    "    #Calcola il tasso di cambio e l'importo converitto\n",
    "    tasso_di_cambio = tassi_di_cambio[valuta_destinazione] / tassi_di_cambio[valuta_di_partenza]\n",
    "    importo_convertito = importo * tasso_di_cambio\n",
    "\n",
    "#stampa il risultato\n",
    "    print(f\"{importo} {valuta_di_partenza} sono equivalenti a {importo_convertito:.2f} {valuta_destinazione}\")\n",
    "else:\n",
    "    print(\"Valute non supportate. Assicurati di inserire valute valide.\")\n",
    "    "
   ]
  },
  {
   "cell_type": "code",
   "execution_count": 6,
   "id": "dd2444f4",
   "metadata": {},
   "outputs": [
    {
     "data": {
      "text/plain": [
       "0.85"
      ]
     },
     "execution_count": 6,
     "metadata": {},
     "output_type": "execute_result"
    }
   ],
   "source": [
    "tassi_di_cambio[\"euro\"]"
   ]
  },
  {
   "cell_type": "code",
   "execution_count": 10,
   "id": "128c9b88",
   "metadata": {},
   "outputs": [
    {
     "name": "stdout",
     "output_type": "stream",
     "text": [
      "Inserisci una frase: caiolamadonnadelsignore\n",
      "a: 4\n",
      "c: 1\n",
      "d: 2\n",
      "e: 2\n",
      "g: 1\n",
      "i: 2\n",
      "l: 2\n",
      "m: 1\n",
      "n: 3\n",
      "o: 3\n",
      "r: 1\n",
      "s: 1\n"
     ]
    }
   ],
   "source": [
    "# Chiedi all'utente di inserire una frase\n",
    "frase = input(\"Inserisci una frase: \")\n",
    "\n",
    "# Converti la frase in minuscolo per evitare proemi di maiuscole/minuscole\n",
    "frase = frase.lower()\n",
    "\n",
    "# Inizializza una lista di lettere dell'alfabeto\n",
    "alfabeto = 'abcdefghijklmnopqrstuvwxyz'\n",
    "\n",
    "# Inizializza un dizionare per tenere traccia del conteggio delle lettere\n",
    "conteggio_lettere = {}\n",
    "\n",
    "# Itera attraverso ciascuna lettera dell'alfabeto\n",
    "for lettera in alfabeto:\n",
    "    #Conta quante volte apare a lettere dell'alfabeto\n",
    "    conteggio = frase.count(lettera)\n",
    "    \n",
    "    #Aggiungi la lettera e il conteggio al dizionare se la lettera appare almeno una volta\n",
    "    if conteggio > 0:\n",
    "        conteggio_lettere[lettera] = conteggio\n",
    "        \n",
    "#stampa il conteggio delle lettere in un formato leggibile\n",
    "for lettera, conteggio in conteggio_lettere.items():\n",
    "    print(f\"{lettera}: {conteggio}\")"
   ]
  },
  {
   "cell_type": "code",
   "execution_count": 12,
   "id": "b5868aeb",
   "metadata": {},
   "outputs": [
    {
     "data": {
      "text/plain": [
       "dict_items([('a', 4), ('c', 1), ('d', 2), ('e', 2), ('g', 1), ('i', 2), ('l', 2), ('m', 1), ('n', 3), ('o', 3), ('r', 1), ('s', 1)])"
      ]
     },
     "execution_count": 12,
     "metadata": {},
     "output_type": "execute_result"
    }
   ],
   "source": [
    "conteggio_lettere.items()"
   ]
  },
  {
   "cell_type": "code",
   "execution_count": 13,
   "id": "ae97ba0e",
   "metadata": {},
   "outputs": [],
   "source": [
    "prodotti = {}\n",
    "prodotti[\"pan bauletto\"] = 2\n",
    "prodotti[\"coca cola\"] = 3"
   ]
  },
  {
   "cell_type": "code",
   "execution_count": 14,
   "id": "37107f59",
   "metadata": {},
   "outputs": [
    {
     "data": {
      "text/plain": [
       "{'pan bauletto': 2, 'coca cola': 3}"
      ]
     },
     "execution_count": 14,
     "metadata": {},
     "output_type": "execute_result"
    }
   ],
   "source": [
    "prodotti"
   ]
  },
  {
   "cell_type": "code",
   "execution_count": 1,
   "id": "d2b6f938",
   "metadata": {},
   "outputs": [
    {
     "name": "stdout",
     "output_type": "stream",
     "text": [
      "Benvetuo nell'orologio mondiale\n",
      "\n",
      "Città disponibili:\n",
      "New York\n",
      "Inserisci il nome della città per visualizzare l'ora (o 'esci' per uscire): New York\n",
      "Londra\n",
      "Inserisci il nome della città per visualizzare l'ora (o 'esci' per uscire): esci\n",
      "citta non valid. Riprova\n",
      "Tokyo\n",
      "Inserisci il nome della città per visualizzare l'ora (o 'esci' per uscire): clear\n",
      "Sydney\n",
      "Inserisci il nome della città per visualizzare l'ora (o 'esci' per uscire): f\n",
      "Rio de Janeiro\n",
      "Inserisci il nome della città per visualizzare l'ora (o 'esci' per uscire): f\n",
      "\n",
      "Città disponibili:\n",
      "New York\n",
      "Inserisci il nome della città per visualizzare l'ora (o 'esci' per uscire): f\n",
      "Londra\n",
      "Inserisci il nome della città per visualizzare l'ora (o 'esci' per uscire): f\n",
      "Tokyo\n"
     ]
    },
    {
     "ename": "KeyboardInterrupt",
     "evalue": "Interrupted by user",
     "output_type": "error",
     "traceback": [
      "\u001b[0;31m---------------------------------------------------------------------------\u001b[0m",
      "\u001b[0;31mKeyboardInterrupt\u001b[0m                         Traceback (most recent call last)",
      "Cell \u001b[0;32mIn[1], line 20\u001b[0m\n\u001b[1;32m     17\u001b[0m \u001b[38;5;28;01mfor\u001b[39;00m citta \u001b[38;5;129;01min\u001b[39;00m citta_fusi_orari\u001b[38;5;241m.\u001b[39mkeys():\n\u001b[1;32m     18\u001b[0m     \u001b[38;5;28mprint\u001b[39m(citta)\n\u001b[0;32m---> 20\u001b[0m     scelta_citta \u001b[38;5;241m=\u001b[39m \u001b[38;5;28minput\u001b[39m(\u001b[38;5;124m\"\u001b[39m\u001b[38;5;124mInserisci il nome della città per visualizzare l\u001b[39m\u001b[38;5;124m'\u001b[39m\u001b[38;5;124mora (o \u001b[39m\u001b[38;5;124m'\u001b[39m\u001b[38;5;124mesci\u001b[39m\u001b[38;5;124m'\u001b[39m\u001b[38;5;124m per uscire): \u001b[39m\u001b[38;5;124m\"\u001b[39m)\u001b[38;5;241m.\u001b[39mstrip()\n\u001b[1;32m     21\u001b[0m     \u001b[38;5;28;01mif\u001b[39;00m scelta_citta\u001b[38;5;241m.\u001b[39mlower() \u001b[38;5;241m==\u001b[39m \u001b[38;5;124m'\u001b[39m\u001b[38;5;124mesci\u001b[39m\u001b[38;5;124m'\u001b[39m:\n\u001b[1;32m     23\u001b[0m         \u001b[38;5;28;01mif\u001b[39;00m scelta_citta \u001b[38;5;129;01min\u001b[39;00m citta_fusi_orari\u001b[38;5;241m.\u001b[39mkeys():\n",
      "File \u001b[0;32m~/anaconda3/lib/python3.11/site-packages/ipykernel/kernelbase.py:1175\u001b[0m, in \u001b[0;36mKernel.raw_input\u001b[0;34m(self, prompt)\u001b[0m\n\u001b[1;32m   1171\u001b[0m \u001b[38;5;28;01mif\u001b[39;00m \u001b[38;5;129;01mnot\u001b[39;00m \u001b[38;5;28mself\u001b[39m\u001b[38;5;241m.\u001b[39m_allow_stdin:\n\u001b[1;32m   1172\u001b[0m     \u001b[38;5;28;01mraise\u001b[39;00m StdinNotImplementedError(\n\u001b[1;32m   1173\u001b[0m         \u001b[38;5;124m\"\u001b[39m\u001b[38;5;124mraw_input was called, but this frontend does not support input requests.\u001b[39m\u001b[38;5;124m\"\u001b[39m\n\u001b[1;32m   1174\u001b[0m     )\n\u001b[0;32m-> 1175\u001b[0m \u001b[38;5;28;01mreturn\u001b[39;00m \u001b[38;5;28mself\u001b[39m\u001b[38;5;241m.\u001b[39m_input_request(\n\u001b[1;32m   1176\u001b[0m     \u001b[38;5;28mstr\u001b[39m(prompt),\n\u001b[1;32m   1177\u001b[0m     \u001b[38;5;28mself\u001b[39m\u001b[38;5;241m.\u001b[39m_parent_ident[\u001b[38;5;124m\"\u001b[39m\u001b[38;5;124mshell\u001b[39m\u001b[38;5;124m\"\u001b[39m],\n\u001b[1;32m   1178\u001b[0m     \u001b[38;5;28mself\u001b[39m\u001b[38;5;241m.\u001b[39mget_parent(\u001b[38;5;124m\"\u001b[39m\u001b[38;5;124mshell\u001b[39m\u001b[38;5;124m\"\u001b[39m),\n\u001b[1;32m   1179\u001b[0m     password\u001b[38;5;241m=\u001b[39m\u001b[38;5;28;01mFalse\u001b[39;00m,\n\u001b[1;32m   1180\u001b[0m )\n",
      "File \u001b[0;32m~/anaconda3/lib/python3.11/site-packages/ipykernel/kernelbase.py:1217\u001b[0m, in \u001b[0;36mKernel._input_request\u001b[0;34m(self, prompt, ident, parent, password)\u001b[0m\n\u001b[1;32m   1214\u001b[0m             \u001b[38;5;28;01mbreak\u001b[39;00m\n\u001b[1;32m   1215\u001b[0m \u001b[38;5;28;01mexcept\u001b[39;00m \u001b[38;5;167;01mKeyboardInterrupt\u001b[39;00m:\n\u001b[1;32m   1216\u001b[0m     \u001b[38;5;66;03m# re-raise KeyboardInterrupt, to truncate traceback\u001b[39;00m\n\u001b[0;32m-> 1217\u001b[0m     \u001b[38;5;28;01mraise\u001b[39;00m \u001b[38;5;167;01mKeyboardInterrupt\u001b[39;00m(\u001b[38;5;124m\"\u001b[39m\u001b[38;5;124mInterrupted by user\u001b[39m\u001b[38;5;124m\"\u001b[39m) \u001b[38;5;28;01mfrom\u001b[39;00m \u001b[38;5;28;01mNone\u001b[39;00m\n\u001b[1;32m   1218\u001b[0m \u001b[38;5;28;01mexcept\u001b[39;00m \u001b[38;5;167;01mException\u001b[39;00m:\n\u001b[1;32m   1219\u001b[0m     \u001b[38;5;28mself\u001b[39m\u001b[38;5;241m.\u001b[39mlog\u001b[38;5;241m.\u001b[39mwarning(\u001b[38;5;124m\"\u001b[39m\u001b[38;5;124mInvalid Message:\u001b[39m\u001b[38;5;124m\"\u001b[39m, exc_info\u001b[38;5;241m=\u001b[39m\u001b[38;5;28;01mTrue\u001b[39;00m)\n",
      "\u001b[0;31mKeyboardInterrupt\u001b[0m: Interrupted by user"
     ]
    }
   ],
   "source": [
    "from datetime import datetime\n",
    "import pytz\n",
    "\n",
    "print(\"Benvetuo nell'orologio mondiale\")\n",
    "\n",
    "# Definisci le città e i relativi fusi orari\n",
    "citta_fusi_orari = {\n",
    "    \"New York\": \"America/New York\",\n",
    "    \"Londra\": \"Europe/London\",\n",
    "    \"Tokyo\": \"Asia/Tokyo\",\n",
    "    \"Sydney\": \"Australia/Sidney\",\n",
    "    \"Rio de Janeiro\": \"America/Sao_Paulo\",\n",
    "}\n",
    "\n",
    "while True:\n",
    "    print(\"\\nCittà disponibili:\")\n",
    "    for citta in citta_fusi_orari.keys():\n",
    "        print(citta)\n",
    "        \n",
    "        scelta_citta = input(\"Inserisci il nome della città per visualizzare l'ora (o 'esci' per uscire): \").strip()\n",
    "        if scelta_citta.lower() == 'esci':\n",
    "            \n",
    "            if scelta_citta in citta_fusi_orari.keys():\n",
    "                fuso_orario = pytz.timezone(citta_fusi_orari[scelta_citta])\n",
    "                ora_corrente = datetime.now(fuso_orario)\n",
    "                print(f\"L'ora corrente a {scelta_citta} è: {ora_corrente.strftime('%H:%M:%S')}\")\n",
    "            else:\n",
    "                print(\"citta non valid. Riprova\")"
   ]
  },
  {
   "cell_type": "markdown",
   "id": "7e61dae3",
   "metadata": {},
   "source": [
    "# Dizionari e main #"
   ]
  },
  {
   "cell_type": "code",
   "execution_count": 5,
   "id": "82edf287",
   "metadata": {},
   "outputs": [
    {
     "name": "stdout",
     "output_type": "stream",
     "text": [
      "Mi chiamo Paolo\n"
     ]
    }
   ],
   "source": [
    "# Funzione principale può avere qualsiasi nome\n",
    "def paolo():\n",
    "    print(\"Mi chiamo Paolo\")\n",
    "    \n",
    "if __name__ == \"__main__\" : #è una condizione logica che \"si verifica sempre\" e pertanto tutto ciò\n",
    "                           #che risulta indentato a questa ocondizione viene eseguita\n",
    "    paolo()"
   ]
  },
  {
   "cell_type": "code",
   "execution_count": 8,
   "id": "0393e626",
   "metadata": {},
   "outputs": [
    {
     "name": "stdout",
     "output_type": "stream",
     "text": [
      "la funzione principale del codice è stata eseguita, in questa ufnzione possono essere presenti funzioni s\n"
     ]
    }
   ],
   "source": [
    "#Funzione principale puà avere uqalsiasi nome\n",
    "def main():\n",
    "    print(\"la funzione principale del codice è stata eseguita, in questa ufnzione possono essere presenti funzioni s\")\n",
    "    \n",
    "if __name__ == \"__main__\": \n",
    "    main()"
   ]
  },
  {
   "cell_type": "code",
   "execution_count": 2,
   "id": "44401e12",
   "metadata": {},
   "outputs": [
    {
     "name": "stdout",
     "output_type": "stream",
     "text": [
      "Benvenuto nella calcolatri bmi!\n",
      "Inserisci i tuo peso in chilogrammi: 62\n",
      "Inserisci la tua altezza in metri: 190\n",
      "il tuo BMI è 0.00, sei classificato come 'Sottopeso.'\n"
     ]
    }
   ],
   "source": [
    "#main\n",
    "# funzoone per il calcolo del BMI\n",
    "def calcola_bmi(peso, altezza):\n",
    "    return peso / (altezza ** 2)\n",
    "\n",
    "#funzione per la valtazione del BMI\n",
    "def valuta_bmi(bmi):\n",
    "    if bmi < 10.5:\n",
    "        return \"Sottopeso\"\n",
    "    elif 10.5 <= bmi < 24.9:\n",
    "        return \"Normopeso\"\n",
    "    elif 25 <= bmi < 29.9:\n",
    "        return \"Sovrappeso\"\n",
    "    else: \n",
    "        return \"Obeso\"\n",
    "    \n",
    "# Funzione principale\n",
    "def main():\n",
    "    print(\"Benvenuto nella calcolatri bmi!\")\n",
    "    peso = float(input(\"Inserisci i tuo peso in chilogrammi: \"))\n",
    "    altezza = float(input(\"Inserisci la tua altezza in metri: \"))\n",
    "    \n",
    "    bmi = calcola_bmi(peso, altezza)\n",
    "    valutazione = valuta_bmi(bmi)\n",
    "    \n",
    "    print(f\"il tuo BMI è {bmi:.2f}, sei classificato come '{valutazione}.'\")\n",
    "    \n",
    "if __name__ == \"__main__\":\n",
    "    main()"
   ]
  },
  {
   "cell_type": "code",
   "execution_count": 3,
   "id": "052855af",
   "metadata": {
    "scrolled": true
   },
   "outputs": [
    {
     "name": "stdout",
     "output_type": "stream",
     "text": [
      "menù:\n",
      "\n",
      " 1. aggiungi cibo consmato\n",
      "\n",
      " 2. calcola calorie totali\n",
      "\n",
      " 3 esci\n",
      "scegli un opzione: 3\n",
      "ok\n"
     ]
    }
   ],
   "source": [
    "cibo_calorie = {\n",
    "    \"pizza\": 285,\n",
    "    \"hamburger\": 250,\n",
    "    \"insalata\": 100,\n",
    "    \"pollo arrosto\": 335,\n",
    "    \"yogurt\": 150\n",
    "}\n",
    "\n",
    "#Funzione per calcolare le calorie cosnumate\n",
    "def calorie_consumate(cibo, quantita):\n",
    "    if cibo not in cibo_calorie.keys():\n",
    "        print(\"Cibo non presente\")\n",
    "    elif cibo in cibo_calorie:\n",
    "        calorie_per_100g = cibo_calorie[cibo]\n",
    "        calorie_totali = (calorie_per_100g / 100) * quantita\n",
    "        return calorie_totali\n",
    "    else:\n",
    "        return 0\n",
    "    \n",
    "#Funzione principale\n",
    "def main():\n",
    "    cibo_consumato = []\n",
    "    \n",
    "    while True:\n",
    "        print(\"menù:\")\n",
    "        print(\"\\n 1. aggiungi cibo consmato\")\n",
    "        print(\"\\n 2. calcola calorie totali\")\n",
    "        print(\"\\n 3 esci\")\n",
    "        \n",
    "        scelta = input(\"scegli un opzione: \")\n",
    "        \n",
    "        if scelta == \"1\":\n",
    "            print(\"\\n\")\n",
    "            for key, value in cibo_calorie.items():\n",
    "                print(key,value)\n",
    "                \n",
    "            cibo = input(\"inserisci il cibo consumto: \").lower()\n",
    "            quantita = float(input(\"Inserisci la quantita in grammi: \"))\n",
    "            cibo_consumato.append((cibo,quantita))\n",
    "        elif scelta == \"2\":\n",
    "            calorie_totali = sum(calorie_consumate(c,q) for c, q in cibo_consumato)\n",
    "            print(f\"\\ncalore totali consumate: {calorie_totali} calorie\")\n",
    "        elif scelta == \"3\":\n",
    "            print(\"ok\")\n",
    "            break\n",
    "        else:\n",
    "            print(\"\\nscelta non valida. riprova\")\n",
    "if __name__ == \"__main__\":\n",
    "    main()"
   ]
  },
  {
   "cell_type": "markdown",
   "id": "f9f304b4",
   "metadata": {},
   "source": [
    "Personaggi satorie e romanzi"
   ]
  },
  {
   "cell_type": "code",
   "execution_count": 3,
   "id": "82778ee3",
   "metadata": {},
   "outputs": [
    {
     "name": "stdout",
     "output_type": "stream",
     "text": [
      "Personaggio Fantasy Generato: \n",
      "Specie: Elfo\n",
      "Classe: Mago\n",
      "Arma: Arco\n",
      "Abilità: Camuffamento, Incantesimi di guarigione, Estrazione mineraria\n"
     ]
    }
   ],
   "source": [
    "import random\n",
    "\n",
    "# Liste di speci, classi, armi e abilità\n",
    "speci = [\"Elfo\", \"Umano\" \"Nano\", \"Orco\", \"Gnomo\"]\n",
    "classi = [\"Guerriero\", \"Mago\", \"Ranger\", \"Ladro\", \"Chierico\"]\n",
    "armi = [\"Spada\", \"Arco\", \"Bacchetta magica\", \"Ascia\", \"Daga\"]\n",
    "abilità = [\"Furtività\", \"Magia dell'acqua\", \"Camuffamento\", \"Estrazione mineraria\", \"Incantesimi di guarigione\"]\n",
    "\n",
    "#Gebera un personaggio casuale\n",
    "specie = random.choice(speci)\n",
    "classe = random.choice(classi)\n",
    "arma = random.choice(armi)\n",
    "abilità_scelte = random.sample(abilità, random.randint(1,3))\n",
    "\n",
    "#stampa il personaggio generato\n",
    "print(f\"Personaggio Fantasy Generato: \")\n",
    "print(f\"Specie: {specie}\")\n",
    "print(f\"Classe: {classe}\")\n",
    "print(f\"Arma: {arma}\")\n",
    "print(f\"Abilità: {', '.join(abilità_scelte)}\")"
   ]
  },
  {
   "cell_type": "code",
   "execution_count": 8,
   "id": "d7999cbf",
   "metadata": {},
   "outputs": [
    {
     "name": "stdout",
     "output_type": "stream",
     "text": [
      "Personaggi Fantasy Generato:\n",
      "Specie: Orco\n",
      "Classe: Ladro\n",
      "Arma: Ascia\n",
      "Abilità: Magia dell'acqua, Incantesimi di guarigione\n"
     ]
    }
   ],
   "source": [
    "import random \n",
    "# Liste di speci, classi, armi e abilità\n",
    "speci = [\"Elfo\", \"Umano\" \"Nano\", \"Orco\", \"Gnomo\"]\n",
    "classi = [\"Guerriero\", \"Mago\", \"Ranger\", \"Ladro\", \"Chierico\"]\n",
    "armi = [\"Spada\", \"Arco\", \"Bacchetta magica\", \"Ascia\", \"Daga\"]\n",
    "abilità = [\"Furtività\", \"Magia dell'acqua\", \"Camuffamento\", \"Estrazione mineraria\", \"Incantesimi di guarigione\"]\n",
    "\n",
    "#ufnzone per creare un personaggio causale\n",
    "def crea_personaggio():\n",
    "    return {\n",
    "        \"Specie\": random.choice(speci),\n",
    "        \"Classe\": random.choice(classi),\n",
    "        \"Arma\": random.choice(armi),\n",
    "        \"Abilità\": random.sample(abilità, random.randint(1,3))\n",
    "    }\n",
    "\n",
    "#funzione principale\n",
    "def main():\n",
    "    personaggio_generato = crea_personaggio()\n",
    "    \n",
    "    print(\"Personaggi Fantasy Generato:\")\n",
    "    for chiave, valore in personaggio_generato.items():\n",
    "        if chiave == \"Abilità\":\n",
    "            valore = ', '.join(valore)\n",
    "        print(f\"{chiave}: {valore}\")\n",
    "        \n",
    "#eseguire la funzione main quando il programma viene eseguito\n",
    "if __name__ == \"__main__\":\n",
    "    main()"
   ]
  },
  {
   "cell_type": "code",
   "execution_count": 10,
   "id": "dde8d618",
   "metadata": {},
   "outputs": [
    {
     "name": "stdout",
     "output_type": "stream",
     "text": [
      "Personaggi Fantasy Generato:\n",
      "Specie: UmanoNano\n",
      "Classe: Guerriero\n",
      "Arma: Arco\n",
      "Abilità: Camuffamento\n"
     ]
    }
   ],
   "source": [
    "import random \n",
    "# Liste di speci, classi, armi e abilità\n",
    "speci = [\"Elfo\", \"Umano\" \"Nano\", \"Orco\", \"Gnomo\"]\n",
    "classi = [\"Guerriero\", \"Mago\", \"Ranger\", \"Ladro\", \"Chierico\"]\n",
    "armi = [\"Spada\", \"Arco\", \"Bacchetta magica\", \"Ascia\", \"Daga\"]\n",
    "abilità = [\"Furtività\", \"Magia dell'acqua\", \"Camuffamento\", \"Estrazione mineraria\", \"Incantesimi di guarigione\"]\n",
    "\n",
    "#ufnzone per creare un personaggio causale\n",
    "def crea_personaggio():\n",
    "    personaggio={\n",
    "        \"Specie\": random.choice(speci),\n",
    "        \"Classe\": random.choice(classi),\n",
    "        \"Arma\": random.choice(armi),\n",
    "        \"Abilità\": random.sample(abilità, random.randint(1,3))\n",
    "    }\n",
    "    return personaggio\n",
    "\n",
    "#funzione principale\n",
    "def main():\n",
    "    personaggio_generato = crea_personaggio()\n",
    "    \n",
    "    print(\"Personaggi Fantasy Generato:\")\n",
    "    for chiave, valore in personaggio_generato.items():\n",
    "        if chiave == \"Abilità\":\n",
    "            valore = ', '.join(valore)\n",
    "        print(f\"{chiave}: {valore}\")\n",
    "        \n",
    "#eseguire la funzione main quando il programma viene eseguito\n",
    "if __name__ == \"__main__\":\n",
    "    main()"
   ]
  },
  {
   "cell_type": "markdown",
   "id": "8647554f",
   "metadata": {},
   "source": [
    "# La letteratura combinatoria #"
   ]
  },
  {
   "cell_type": "code",
   "execution_count": 12,
   "id": "aeb30f24",
   "metadata": {},
   "outputs": [
    {
     "name": "stdout",
     "output_type": "stream",
     "text": [
      "Generatore di personaggi per romanzi\n",
      "Inserisci il nome del personaggio: edoardo\n",
      "Nome: edoardo\n",
      "Aspetto Fisico: occhi cazzurri\n",
      "Aspetto Personale: ottimista\n",
      "Sfondo: commerciale\n",
      "Motivazione: vendetta\n"
     ]
    }
   ],
   "source": [
    "import random\n",
    "\n",
    "physical_traits = [\"capelli nero\", \"capelli biondi\", \"occhi cazzurri\", \"occhi verdi\"]\n",
    "personality_traits = [\"gentile\", \"introverso\", \"estroverso\", \"ottimista\"]\n",
    "backgrounds = [\"contadino\", \"nobile\", \"artigiano\", \"commerciale\"]\n",
    "motivations = [\"vendetta\", \"ricchezza\", \"amore\", \"vita esterna\"]\n",
    "\n",
    "def genera_personaggio():\n",
    "    nome = input(\"Inserisci il nome del personaggio: \")\n",
    "    aspetto_fisico = random.choice(physical_traits)\n",
    "    aspetto_personale = random.choice(personality_traits)\n",
    "    sfondo = random.choice(backgrounds)\n",
    "    motivazione = random.choice(motivations)\n",
    "    \n",
    "    descrizione =f\"Nome: {nome}\\nAspetto Fisico: {aspetto_fisico}\\nAspetto Personale: {aspetto_personale}\\nSfondo: {sfondo}\\nMotivazione: {motivazione}\"\n",
    "    \n",
    "    return descrizione\n",
    "print(\"Generatore di personaggi per romanzi\")\n",
    "print(genera_personaggio())"
   ]
  },
  {
   "cell_type": "markdown",
   "id": "e962623e",
   "metadata": {},
   "source": [
    "# citaœone del giorno #"
   ]
  },
  {
   "cell_type": "code",
   "execution_count": 14,
   "id": "249f9cd6",
   "metadata": {},
   "outputs": [
    {
     "name": "stdout",
     "output_type": "stream",
     "text": [
      "Benvevuto nel generatore di citazioni\n",
      "Premi invio per ottenere una citazione causale...\n",
      "citazione del giorno: Non sforzare troppo qualcosa.. perché forse è shit - Edoardo\n"
     ]
    }
   ],
   "source": [
    "#database di citazioni\n",
    "citazioni = [\n",
    "    \"Non sforzare troppo qualcosa.. perché forse è shit - Edoardo\",\n",
    "    \"A\",\n",
    "    \"B\",\n",
    "    \"C\",\n",
    "]\n",
    "\n",
    "#Funzione per generare una citazione casuale\n",
    "def genera_citazione():\n",
    "    return random.choice(citazioni)\n",
    "\n",
    "#funzione principale\n",
    "def main():\n",
    "    print(\"Benvevuto nel generatore di citazioni\")\n",
    "    input(\"Premi invio per ottenere una citazione causale...\")\n",
    "    \n",
    "    citazione = genera_citazione()\n",
    "    print(f\"citazione del giorno: {citazione}\")\n",
    "    \n",
    "if __name__ == \"__main__\":\n",
    "    main()"
   ]
  },
  {
   "cell_type": "markdown",
   "id": "d22e48a4",
   "metadata": {},
   "source": [
    "# GENERATORE FRASI DA INFLUENCER #"
   ]
  },
  {
   "cell_type": "code",
   "execution_count": 17,
   "id": "5f585c4d",
   "metadata": {},
   "outputs": [
    {
     "name": "stdout",
     "output_type": "stream",
     "text": [
      "Nuova citazione generata:\n",
      "dio come va? blabla madonna lalalal blululullulu\n"
     ]
    }
   ],
   "source": [
    "import random\n",
    "#lista di frammenti di citazioni famose (più brevi)\n",
    "frammenti = [\n",
    "    \"ciao\",\n",
    "    \"come va?\",\n",
    "    \"dio\",\n",
    "    \"grazioso\",\n",
    "    \"madonna\",\n",
    "    \"blabla\",\n",
    "    \"lalalal\",\n",
    "    \"pipipipip\",\n",
    "    \"blululullulu\"\n",
    "]\n",
    "#funzione per crare nuove citazioni rimenscolando i frammenti\n",
    "def crea_citazione():\n",
    "    num_frammenti = random.randint(5,7) #scegli un numero casuale di frammenti da utilizzare\n",
    "    citazione_rimescolata = random.sample(frammenti, num_frammenti)\n",
    "    nuova_citazione = \" \".join(citazione_rimescolata)\n",
    "    return nuova_citazione\n",
    "\n",
    "#genera una nuova nuova citazione\n",
    "nuova_citazione = crea_citazione()\n",
    "print(\"Nuova citazione generata:\")\n",
    "print(nuova_citazione)"
   ]
  },
  {
   "cell_type": "code",
   "execution_count": 4,
   "id": "4de58ee4",
   "metadata": {},
   "outputs": [
    {
     "name": "stdout",
     "output_type": "stream",
     "text": [
      "Nuova citazione generata:\n",
      "dio blululullulu madonna blabla pipipipip come va? ciao\n"
     ]
    }
   ],
   "source": [
    "import random\n",
    "\n",
    "frammenti = [\n",
    "    \"ciao\",\n",
    "    \"come va?\",\n",
    "    \"dio\",\n",
    "    \"grazioso\",\n",
    "    \"madonna\",\n",
    "    \"blabla\",\n",
    "    \"lalalal\",\n",
    "    \"pipipipip\",\n",
    "    \"blululullulu\"\n",
    "]\n",
    "#funzione per crrare nuove citazioni mescolando i frammenti\n",
    "def crea_citazione():\n",
    "    num_frammenti = random.randint(4,7) #scegli un umero casuale di frammenti da utilizzare\n",
    "    citazione_rimescolata = random.sample(frammenti, num_frammenti)\n",
    "    nuova_citazione = \" \".join(citazione_rimescolata)\n",
    "    return nuova_citazione\n",
    "    \n",
    "#genera una nuova citazione\n",
    "def main():\n",
    "    nuova_citazione = crea_citazione()\n",
    "    print(\"Nuova citazione generata:\")\n",
    "    print(nuova_citazione)\n",
    "    \n",
    "if __name__ == \"__main__\":\n",
    "    main()"
   ]
  },
  {
   "cell_type": "code",
   "execution_count": null,
   "id": "96ea2c31",
   "metadata": {},
   "outputs": [],
   "source": [
    "import random\n",
    "\n",
    "#liste di parole predefinite per la generazione dlela poesia\n",
    "aggettivi = [\"dolce\", \"serena\", \"profondo\", \"luminoso\", \"gentile\"]\n",
    "sostantivi = [\"amore\", \"mare\", \"cielo\", \"vento\", \"sogno\"]\n",
    "verbi = [\"danza\", \"splende\", \"abbraccia\", \"canta\", \"sorride\"]\n",
    "\n",
    "#genera una poesia casuale\n",
    "def genera_poesia():\n",
    "    verso1 = f\"Il {random.choice(aggettivi)} {random.choice(sostantivi)} {random.choice(verbi)}.\"\n",
    "    verso2 = f\"Il {random.choice(aggettivi)} {random.choice(sostantivi)} {random.choice(verbi)}.\"\n",
    "    verso3 = f\"Nel {random.choice(aggettivi)} {random.choice(sostantivi)}\""
   ]
  }
 ],
 "metadata": {
  "kernelspec": {
   "display_name": "Python 3 (ipykernel)",
   "language": "python",
   "name": "python3"
  },
  "language_info": {
   "codemirror_mode": {
    "name": "ipython",
    "version": 3
   },
   "file_extension": ".py",
   "mimetype": "text/x-python",
   "name": "python",
   "nbconvert_exporter": "python",
   "pygments_lexer": "ipython3",
   "version": "3.11.4"
  }
 },
 "nbformat": 4,
 "nbformat_minor": 5
}
